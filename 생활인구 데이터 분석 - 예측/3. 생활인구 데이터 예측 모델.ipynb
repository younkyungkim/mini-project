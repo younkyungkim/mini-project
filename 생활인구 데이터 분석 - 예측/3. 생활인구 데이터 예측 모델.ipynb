{
 "cells": [
  {
   "cell_type": "markdown",
   "id": "04b1edbb",
   "metadata": {},
   "source": [
    "---"
   ]
  },
  {
   "cell_type": "markdown",
   "id": "cubic-stress",
   "metadata": {},
   "source": [
    "# (실습준비) 데이터 불러오기부터"
   ]
  },
  {
   "cell_type": "code",
   "execution_count": 1,
   "id": "efficient-minutes",
   "metadata": {},
   "outputs": [],
   "source": [
    "# 학습/평가 데이터 로딩\n",
    "import pandas as pd\n",
    "train_x=pd.read_csv('train_x.csv')\n",
    "train_y=pd.read_csv('train_y.csv')\n",
    "test_x=pd.read_csv('test_x.csv')\n",
    "test_y=pd.read_csv('test_y.csv')"
   ]
  },
  {
   "cell_type": "code",
   "execution_count": 12,
   "id": "a14c97ed-ce2b-4dbe-94f3-60525eb855c4",
   "metadata": {
    "tags": []
   },
   "outputs": [],
   "source": [
    "train_x[\"Covid_SD\"] = train_x[\"Covid_SD\"].astype(int)\n",
    "test_x[\"Covid_SD\"] = test_x[\"Covid_SD\"].astype(int)"
   ]
  },
  {
   "cell_type": "markdown",
   "id": "2084ca1a",
   "metadata": {},
   "source": [
    "---"
   ]
  },
  {
   "cell_type": "markdown",
   "id": "native-expansion",
   "metadata": {},
   "source": [
    "# 1. Machine Learning\n",
    "## 이제 모델링을 해봅시다!\n",
    "+ KeyPoint : 머신러닝 라이브러리를 토대로 모델링을 할 수 있다."
   ]
  },
  {
   "cell_type": "code",
   "execution_count": 2,
   "id": "bd486fa0",
   "metadata": {},
   "outputs": [],
   "source": [
    "import seaborn as sns\n",
    "import matplotlib.pyplot as plt\n",
    "\n",
    "plt.rc('font', family='Malgun Gothic')\n",
    "sns.set(font=\"Malgun Gothic\",#\"NanumGothicCoding\", \n",
    "        rc={\"axes.unicode_minus\":False}, # 마이너스 부호 깨짐 현상 해결\n",
    "        style='darkgrid')"
   ]
  },
  {
   "cell_type": "markdown",
   "id": "persistent-brighton",
   "metadata": {},
   "source": [
    "### 가. LinearRegression 부터 시작해봅시다."
   ]
  },
  {
   "cell_type": "markdown",
   "id": "joined-client",
   "metadata": {},
   "source": [
    "#### [실습문제1] 머신러닝_1\n",
    "* Train과 Test로 나눈 데이터를 기준으로 LinearRegression 모델링을 진행하고 평가를 해주세요.\n",
    "* 성능지표 : RMSE, R-squared Score"
   ]
  },
  {
   "cell_type": "code",
   "execution_count": 14,
   "id": "willing-disclaimer",
   "metadata": {},
   "outputs": [],
   "source": [
    "# 아래에 실습코드를 작성하세요.\n",
    "from sklearn.linear_model import LinearRegression\n",
    "from sklearn.metrics import mean_squared_error, r2_score\n"
   ]
  },
  {
   "cell_type": "code",
   "execution_count": 15,
   "id": "0a21d60f",
   "metadata": {},
   "outputs": [],
   "source": [
    "# 아래에 실습코드를 작성하세요.\n",
    "\n",
    "model1=LinearRegression()\n",
    "model1.fit(train_x, train_y)\n",
    "y_pred = model1.predict(test_x)"
   ]
  },
  {
   "cell_type": "code",
   "execution_count": 16,
   "id": "8c76b46a",
   "metadata": {},
   "outputs": [
    {
     "name": "stdout",
     "output_type": "stream",
     "text": [
      "RMSE: 1864.8253125568863\n",
      "R2: 0.7244810200524856\n"
     ]
    }
   ],
   "source": [
    "# 아래에 실습코드를 작성하세요.\n",
    "import numpy as np\n",
    "\n",
    "print('RMSE:',np.sqrt(mean_squared_error(test_y,y_pred)))\n",
    "print('R2:',r2_score(test_y,y_pred))"
   ]
  },
  {
   "cell_type": "markdown",
   "id": "lesser-universe",
   "metadata": {},
   "source": [
    "### 나. 다음은 앙상블 기법을 토대로 랜덤포레스트와 그라디언부스팅을 활용해봅시다."
   ]
  },
  {
   "cell_type": "markdown",
   "id": "crazy-escape",
   "metadata": {},
   "source": [
    "#### 1) 렌덤포레스트\n",
    "##### 배깅의 일종으로 의사결정나무(Decision Tree) 여러 개를 모아서 숲을 랜덤으로 구성하고 이를 종합해서 최종 모델을 산출하는 기법이라고 할 수 있다."
   ]
  },
  {
   "cell_type": "markdown",
   "id": "dense-eleven",
   "metadata": {},
   "source": [
    "#### [실습문제2] 머신러닝_2\n",
    "* Train과 Test로 나눈 데이터를 기준으로 렌덤포레스트로 모델을 학습을 진행하고 평가를 해주세요.\n",
    "* 성능지표 : RMSE, R-squared Score"
   ]
  },
  {
   "cell_type": "code",
   "execution_count": 17,
   "id": "guilty-score",
   "metadata": {},
   "outputs": [],
   "source": [
    "# 아래에 실습코드를 작성하세요.\n",
    "from sklearn.ensemble import RandomForestRegressor"
   ]
  },
  {
   "cell_type": "code",
   "execution_count": 18,
   "id": "10b33a11",
   "metadata": {},
   "outputs": [
    {
     "name": "stderr",
     "output_type": "stream",
     "text": [
      "C:\\Users\\user\\AppData\\Local\\Temp\\ipykernel_11740\\2157414141.py:3: DataConversionWarning: A column-vector y was passed when a 1d array was expected. Please change the shape of y to (n_samples,), for example using ravel().\n",
      "  model2.fit(train_x,train_y)\n"
     ]
    }
   ],
   "source": [
    "# 아래에 실습코드를 작성하세요.\n",
    "model2=RandomForestRegressor() \n",
    "model2.fit(train_x,train_y)\n",
    "y_pred=model2.predict(test_x)\n"
   ]
  },
  {
   "cell_type": "code",
   "execution_count": 19,
   "id": "8e3ecc9b",
   "metadata": {},
   "outputs": [
    {
     "name": "stdout",
     "output_type": "stream",
     "text": [
      "RMSE: 1614.917119085608\n",
      "R2: 0.79337841556909\n"
     ]
    }
   ],
   "source": [
    "# 아래에 실습코드를 작성하세요.\n",
    "print('RMSE:',np.sqrt(mean_squared_error(test_y,y_pred)))\n",
    "print('R2:',r2_score(test_y,y_pred))"
   ]
  },
  {
   "cell_type": "markdown",
   "id": "convinced-vocabulary",
   "metadata": {},
   "source": [
    "#### 2) GradientBoosting\n",
    "##### 앞선 모델의 에러를 다음 모델의 예측 값으로 활용하면서 가중치 업데이트 하는데 경사하강법(Gradient Descent)를 활용해서 최적 모델을 만드는 기법"
   ]
  },
  {
   "cell_type": "markdown",
   "id": "needed-google",
   "metadata": {},
   "source": [
    "#### [실습문제3] 머신러닝_4\n",
    "* Train과 Test로 나눈 데이터를 기준으로 그라디언트부스팅으로 모델을 학습을 진행하고 평가를 해주세요.\n",
    "* 성능지표 : RMSE, R-squared Score"
   ]
  },
  {
   "cell_type": "code",
   "execution_count": 20,
   "id": "continent-olympus",
   "metadata": {},
   "outputs": [],
   "source": [
    "# 아래에 실습코드를 작성하세요.\n",
    "from xgboost import XGBRegressor\n",
    "\n",
    "model3=XGBRegressor() \n",
    "model3.fit(train_x,train_y)\n",
    "y_pred=model3.predict(test_x)"
   ]
  },
  {
   "cell_type": "code",
   "execution_count": 21,
   "id": "241dbcdc",
   "metadata": {},
   "outputs": [
    {
     "name": "stdout",
     "output_type": "stream",
     "text": [
      "RMSE: 1871.2892216218263\n",
      "R2: 0.7225676867511821\n"
     ]
    }
   ],
   "source": [
    "# 아래에 실습코드를 작성하세요.\n",
    "print('RMSE:',np.sqrt(mean_squared_error(test_y,y_pred)))\n",
    "print('R2:',r2_score(test_y,y_pred))\n",
    "\n"
   ]
  },
  {
   "cell_type": "markdown",
   "id": "305bbd5b",
   "metadata": {},
   "source": [
    "#### 3) Self Choice Model\n",
    "##### 앞선 교육과정에서 배운 머신러닝 모델 중 어떤 것이든 좋습니다. 원하는 모델을 선택해서 학습을 시켜보세요."
   ]
  },
  {
   "cell_type": "markdown",
   "id": "fbef7589",
   "metadata": {},
   "source": [
    "#### [실습문제4] 머신러닝_6\n",
    "* Train과 Test로 나눈 데이터를 기준으로 Self Choice Model로 모델을 학습을 진행하고 평가를 해주세요.\n",
    "* 성능지표 : RMSE, R-squared Score"
   ]
  },
  {
   "cell_type": "code",
   "execution_count": 14,
   "id": "ac90a615-907f-4339-8894-cc3a445ab8a8",
   "metadata": {
    "tags": []
   },
   "outputs": [],
   "source": [
    "from sklearn.linear_model import LinearRegression"
   ]
  },
  {
   "cell_type": "code",
   "execution_count": 22,
   "id": "a2c66605",
   "metadata": {},
   "outputs": [],
   "source": [
    "# 아래에 실습코드를 작성하세요.\n",
    "\n",
    "model4=LinearRegression()\n",
    "model4.fit(train_x,train_y)\n",
    "y_pred=model4.predict(test_x)"
   ]
  },
  {
   "cell_type": "code",
   "execution_count": 23,
   "id": "546ac8bf",
   "metadata": {},
   "outputs": [
    {
     "name": "stdout",
     "output_type": "stream",
     "text": [
      "RMSE: 1864.8253125568863\n",
      "R2: 0.7244810200524856\n"
     ]
    }
   ],
   "source": [
    "# 아래에 실습코드를 작성하세요.\n",
    "\n",
    "print('RMSE:',np.sqrt(mean_squared_error(test_y,y_pred)))\n",
    "print('R2:',r2_score(test_y,y_pred))"
   ]
  },
  {
   "cell_type": "markdown",
   "id": "f054fd75",
   "metadata": {},
   "source": [
    "---"
   ]
  },
  {
   "cell_type": "markdown",
   "id": "typical-optics",
   "metadata": {},
   "source": [
    "# 2. Deep Learning \n",
    "## 이번엔 딥러닝 모델링을 해봅시다."
   ]
  },
  {
   "cell_type": "markdown",
   "id": "05acdb26-c5ab-452a-b87c-59bee77c2722",
   "metadata": {},
   "source": [
    "### 1) 모델 1"
   ]
  },
  {
   "cell_type": "code",
   "execution_count": 25,
   "id": "bb331b21",
   "metadata": {},
   "outputs": [
    {
     "name": "stdout",
     "output_type": "stream",
     "text": [
      "Model: \"model_1\"\n",
      "_________________________________________________________________\n",
      " Layer (type)                Output Shape              Param #   \n",
      "=================================================================\n",
      " input_2 (InputLayer)        [(None, 7)]               0         \n",
      "                                                                 \n",
      " dense_3 (Dense)             (None, 16)                128       \n",
      "                                                                 \n",
      " dense_4 (Dense)             (None, 16)                272       \n",
      "                                                                 \n",
      " dense_5 (Dense)             (None, 1)                 17        \n",
      "                                                                 \n",
      "=================================================================\n",
      "Total params: 417 (1.63 KB)\n",
      "Trainable params: 417 (1.63 KB)\n",
      "Non-trainable params: 0 (0.00 Byte)\n",
      "_________________________________________________________________\n"
     ]
    }
   ],
   "source": [
    "# 아래에 실습코드를 작성하세요.\n",
    "import tensorflow as tf\n",
    "\n",
    "X = tf.keras.Input(shape=[7])\n",
    "H = tf.keras.layers.Dense(16, activation='swish')(X)\n",
    "H = tf.keras.layers.Dense(16, activation='swish')(H)\n",
    "Y = tf.keras.layers.Dense(1)(H)\n",
    "model5 = tf.keras.Model(X, Y)\n",
    "model5.compile(loss='mse')\n",
    "model5.summary()"
   ]
  },
  {
   "cell_type": "code",
   "execution_count": 26,
   "id": "3f4ac1bc",
   "metadata": {},
   "outputs": [
    {
     "name": "stdout",
     "output_type": "stream",
     "text": [
      "Epoch 1/10\n",
      "1360/1360 [==============================] - 1s 879us/step - loss: 3258299.7500\n",
      "Epoch 2/10\n",
      "1360/1360 [==============================] - 1s 899us/step - loss: 3266662.5000\n",
      "Epoch 3/10\n",
      "1360/1360 [==============================] - 1s 1ms/step - loss: 3263687.0000\n",
      "Epoch 4/10\n",
      "1360/1360 [==============================] - 1s 969us/step - loss: 3267889.5000\n",
      "Epoch 5/10\n",
      "1360/1360 [==============================] - 1s 944us/step - loss: 3267009.2500\n",
      "Epoch 6/10\n",
      "1360/1360 [==============================] - 1s 1ms/step - loss: 3254143.5000\n",
      "Epoch 7/10\n",
      "1360/1360 [==============================] - 2s 1ms/step - loss: 3256743.2500\n",
      "Epoch 8/10\n",
      "1360/1360 [==============================] - 2s 1ms/step - loss: 3263757.7500\n",
      "Epoch 9/10\n",
      "1360/1360 [==============================] - 1s 1ms/step - loss: 3254938.0000\n",
      "Epoch 10/10\n",
      "1360/1360 [==============================] - 1s 1ms/step - loss: 3261027.5000\n"
     ]
    },
    {
     "data": {
      "text/plain": [
       "<keras.src.callbacks.History at 0x2174a93e190>"
      ]
     },
     "execution_count": 26,
     "metadata": {},
     "output_type": "execute_result"
    }
   ],
   "source": [
    "# 아래에 실습코드를 작성하세요.\n",
    "model5.fit(train_x, train_y, epochs=1000, verbose=0)\n",
    "model5.fit(train_x, train_y, epochs=10)"
   ]
  },
  {
   "cell_type": "code",
   "execution_count": 27,
   "id": "61dce4f4",
   "metadata": {},
   "outputs": [
    {
     "name": "stdout",
     "output_type": "stream",
     "text": [
      "136/136 [==============================] - 0s 831us/step\n",
      "RMSE: 1828.7681926683094\n",
      "R2: 0.7350325477338548\n"
     ]
    }
   ],
   "source": [
    "# 아래에 실습코드를 작성하세요.\n",
    "y_pred=model5.predict(test_x)\n",
    "print('RMSE:',np.sqrt(mean_squared_error(test_y,y_pred)))\n",
    "print('R2:',r2_score(test_y,y_pred))\n"
   ]
  },
  {
   "cell_type": "markdown",
   "id": "0a67d3ef-c874-43f0-b410-7d4d9c97d275",
   "metadata": {},
   "source": [
    "### 2) 모델 2"
   ]
  },
  {
   "cell_type": "code",
   "execution_count": 28,
   "id": "aa5dac6f-0932-4813-9dfc-aaa2036ea2d8",
   "metadata": {
    "tags": []
   },
   "outputs": [
    {
     "name": "stdout",
     "output_type": "stream",
     "text": [
      "Model: \"model_2\"\n",
      "_________________________________________________________________\n",
      " Layer (type)                Output Shape              Param #   \n",
      "=================================================================\n",
      " input_3 (InputLayer)        [(None, 7)]               0         \n",
      "                                                                 \n",
      " dense_6 (Dense)             (None, 128)               1024      \n",
      "                                                                 \n",
      " batch_normalization (Batch  (None, 128)               512       \n",
      " Normalization)                                                  \n",
      "                                                                 \n",
      " activation (Activation)     (None, 128)               0         \n",
      "                                                                 \n",
      " dropout (Dropout)           (None, 128)               0         \n",
      "                                                                 \n",
      " dense_7 (Dense)             (None, 128)               16512     \n",
      "                                                                 \n",
      " batch_normalization_1 (Bat  (None, 128)               512       \n",
      " chNormalization)                                                \n",
      "                                                                 \n",
      " activation_1 (Activation)   (None, 128)               0         \n",
      "                                                                 \n",
      " dropout_1 (Dropout)         (None, 128)               0         \n",
      "                                                                 \n",
      " dense_8 (Dense)             (None, 128)               16512     \n",
      "                                                                 \n",
      " batch_normalization_2 (Bat  (None, 128)               512       \n",
      " chNormalization)                                                \n",
      "                                                                 \n",
      " activation_2 (Activation)   (None, 128)               0         \n",
      "                                                                 \n",
      " dropout_2 (Dropout)         (None, 128)               0         \n",
      "                                                                 \n",
      " dense_9 (Dense)             (None, 128)               16512     \n",
      "                                                                 \n",
      " batch_normalization_3 (Bat  (None, 128)               512       \n",
      " chNormalization)                                                \n",
      "                                                                 \n",
      " activation_3 (Activation)   (None, 128)               0         \n",
      "                                                                 \n",
      " dropout_3 (Dropout)         (None, 128)               0         \n",
      "                                                                 \n",
      " dense_10 (Dense)            (None, 1)                 129       \n",
      "                                                                 \n",
      "=================================================================\n",
      "Total params: 52737 (206.00 KB)\n",
      "Trainable params: 51713 (202.00 KB)\n",
      "Non-trainable params: 1024 (4.00 KB)\n",
      "_________________________________________________________________\n"
     ]
    }
   ],
   "source": [
    "X = tf.keras.Input(shape=[7])\n",
    "H = tf.keras.layers.Dense(128)(X)\n",
    "H = tf.keras.layers.BatchNormalization()(H)\n",
    "H = tf.keras.layers.Activation('swish')(H)\n",
    "\n",
    "H = tf.keras.layers.Dropout(0.6)(H)\n",
    "H = tf.keras.layers.Dense(128)(H)\n",
    "H = tf.keras.layers.BatchNormalization()(H)\n",
    "H = tf.keras.layers.Activation('swish')(H)\n",
    "\n",
    "H = tf.keras.layers.Dropout(0.6)(H)\n",
    "H = tf.keras.layers.Dense(128)(H)\n",
    "H = tf.keras.layers.BatchNormalization()(H)\n",
    "H = tf.keras.layers.Activation('swish')(H)\n",
    "\n",
    "H = tf.keras.layers.Dropout(0.6)(H)\n",
    "H = tf.keras.layers.Dense(128)(H)\n",
    "H = tf.keras.layers.BatchNormalization()(H)\n",
    "H = tf.keras.layers.Activation('swish')(H)\n",
    "\n",
    "H = tf.keras.layers.Dropout(0.6)(H)\n",
    "Y = tf.keras.layers.Dense(1)(H)\n",
    "model6 = tf.keras.Model(X, Y)\n",
    "\n",
    "model6.compile(loss='mae')\n",
    "\n",
    "model6.summary()"
   ]
  },
  {
   "cell_type": "code",
   "execution_count": 29,
   "id": "c41a9298-0a10-4069-9571-7c429bd4d938",
   "metadata": {
    "tags": []
   },
   "outputs": [
    {
     "name": "stdout",
     "output_type": "stream",
     "text": [
      "Epoch 1/10\n",
      "1360/1360 [==============================] - 3s 2ms/step - loss: 3572.4919\n",
      "Epoch 2/10\n",
      "1360/1360 [==============================] - 3s 2ms/step - loss: 3575.1436\n",
      "Epoch 3/10\n",
      "1360/1360 [==============================] - 3s 2ms/step - loss: 3560.3586\n",
      "Epoch 4/10\n",
      "1360/1360 [==============================] - 3s 2ms/step - loss: 3582.8894\n",
      "Epoch 5/10\n",
      "1360/1360 [==============================] - 4s 3ms/step - loss: 3594.3320\n",
      "Epoch 6/10\n",
      "1360/1360 [==============================] - 3s 2ms/step - loss: 3571.3801\n",
      "Epoch 7/10\n",
      "1360/1360 [==============================] - 3s 3ms/step - loss: 3589.2402\n",
      "Epoch 8/10\n",
      "1360/1360 [==============================] - 3s 2ms/step - loss: 3576.0393\n",
      "Epoch 9/10\n",
      "1360/1360 [==============================] - 3s 3ms/step - loss: 3576.2283\n",
      "Epoch 10/10\n",
      "1360/1360 [==============================] - 4s 3ms/step - loss: 3577.4412\n"
     ]
    },
    {
     "data": {
      "text/plain": [
       "<keras.src.callbacks.History at 0x2175bec4bd0>"
      ]
     },
     "execution_count": 29,
     "metadata": {},
     "output_type": "execute_result"
    }
   ],
   "source": [
    "# 아래에 실습코드를 작성하세요.\n",
    "model6.fit(train_x, train_y, epochs=1000, verbose=0)\n",
    "model6.fit(train_x, train_y, epochs=10)"
   ]
  },
  {
   "cell_type": "code",
   "execution_count": 30,
   "id": "9da88f10-72af-49e3-b9ac-4e9f781bc53d",
   "metadata": {
    "tags": []
   },
   "outputs": [
    {
     "name": "stdout",
     "output_type": "stream",
     "text": [
      "136/136 [==============================] - 0s 1ms/step\n",
      "RMSE: 2395.737194340321\n",
      "R2: 0.5452700473686106\n"
     ]
    }
   ],
   "source": [
    "# 아래에 실습코드를 작성하세요.\n",
    "y_pred=model6.predict(test_x)\n",
    "print('RMSE:',np.sqrt(mean_squared_error(test_y,y_pred)))\n",
    "print('R2:',r2_score(test_y,y_pred))"
   ]
  },
  {
   "cell_type": "markdown",
   "id": "bbbbfc7c-08b3-4c45-b994-5cedc9b831e6",
   "metadata": {},
   "source": [
    "**랜덤포레스트 모델이 가장 좋은 성능을 보임**"
   ]
  }
 ],
 "metadata": {
  "kernelspec": {
   "display_name": "Python 3 (ipykernel)",
   "language": "python",
   "name": "python3"
  },
  "language_info": {
   "codemirror_mode": {
    "name": "ipython",
    "version": 3
   },
   "file_extension": ".py",
   "mimetype": "text/x-python",
   "name": "python",
   "nbconvert_exporter": "python",
   "pygments_lexer": "ipython3",
   "version": "3.11.3"
  },
  "vscode": {
   "interpreter": {
    "hash": "f08154012ddadd8e950e6e9e035c7a7b32c136e7647e9b7c77e02eb723a8bedb"
   }
  }
 },
 "nbformat": 4,
 "nbformat_minor": 5
}
