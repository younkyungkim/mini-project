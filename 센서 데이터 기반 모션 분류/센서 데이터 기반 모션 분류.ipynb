{
 "cells": [
  {
   "cell_type": "code",
   "execution_count": 1,
   "id": "c56c0199-f3bd-49f3-831d-010a809fc6e3",
   "metadata": {
    "tags": []
   },
   "outputs": [],
   "source": [
    "import pandas as pd\n",
    "import numpy as np\n",
    "import matplotlib.pyplot as plt\n",
    "import seaborn as sns\n",
    "\n",
    "# 필요하다고 판단되는 라이브러리를 추가하세요.\n",
    "from sklearn.model_selection import train_test_split"
   ]
  },
  {
   "cell_type": "code",
   "execution_count": 29,
   "id": "af451d42-102f-4509-b3f3-449d8c461967",
   "metadata": {
    "tags": []
   },
   "outputs": [],
   "source": [
    "plt.rc('font', family='Malgun Gothic')\n",
    "sns.set(font=\"Malgun Gothic\",#\"NanumGothicCoding\", \n",
    "        rc={\"axes.unicode_minus\":False}, # 마이너스 부호 깨짐 현상 해결\n",
    "        style='darkgrid')"
   ]
  },
  {
   "cell_type": "code",
   "execution_count": 2,
   "id": "0adb3d2b-c1a3-41ba-88f3-7c747caab7e8",
   "metadata": {
    "tags": []
   },
   "outputs": [],
   "source": [
    "def plot_feature_importance(importance, names, result_only = False, topn = 'all'):\n",
    "    feature_importance = np.array(importance)\n",
    "    feature_name = np.array(names)\n",
    "\n",
    "    data={'feature_name':feature_name,'feature_importance':feature_importance}\n",
    "    fi_temp = pd.DataFrame(data)\n",
    "\n",
    "    #변수의 특성 중요도 순으로 정렬하기\n",
    "    fi_temp.sort_values(by=['feature_importance'], ascending=False,inplace=True)\n",
    "    fi_temp.reset_index(drop=True, inplace = True)\n",
    "\n",
    "    if topn == 'all' :\n",
    "        fi_df = fi_temp.copy()\n",
    "    else :\n",
    "        fi_df = fi_temp.iloc[:topn]\n",
    "\n",
    "    #변수의 특성 중요도 그래프로 그리기\n",
    "    if result_only == False :\n",
    "        plt.figure(figsize=(10,20))\n",
    "        sns.barplot(x='feature_importance', y='feature_name', data = fi_df)\n",
    "\n",
    "        plt.xlabel('importance')\n",
    "        plt.ylabel('feature name')\n",
    "        plt.grid()\n",
    "\n",
    "    return fi_df"
   ]
  },
  {
   "cell_type": "code",
   "execution_count": 3,
   "id": "4685c8a4-9af0-4bd5-a60c-a11d1ed264be",
   "metadata": {
    "tags": []
   },
   "outputs": [
    {
     "name": "stdout",
     "output_type": "stream",
     "text": [
      "<class 'pandas.core.frame.DataFrame'>\n",
      "RangeIndex: 100000 entries, 0 to 99999\n",
      "Data columns (total 8 columns):\n",
      " #   Column     Non-Null Count   Dtype  \n",
      "---  ------     --------------   -----  \n",
      " 0   timestamp  100000 non-null  object \n",
      " 1   A_x        90000 non-null   float64\n",
      " 2   A_y        90000 non-null   float64\n",
      " 3   A_z        90000 non-null   float64\n",
      " 4   B_x        90000 non-null   float64\n",
      " 5   B_y        90000 non-null   float64\n",
      " 6   B_z        90000 non-null   float64\n",
      " 7   label      100000 non-null  int64  \n",
      "dtypes: float64(6), int64(1), object(1)\n",
      "memory usage: 6.1+ MB\n"
     ]
    }
   ],
   "source": [
    "import pandas as pd\n",
    "\n",
    "data = pd.read_csv('train.csv', usecols=lambda column: column != 'Unnamed: 0')\n",
    "data.head()\n",
    "data.info()"
   ]
  },
  {
   "cell_type": "code",
   "execution_count": 13,
   "id": "ada0817e-92a1-474e-8818-4de01d40bdfc",
   "metadata": {
    "tags": []
   },
   "outputs": [
    {
     "name": "stdout",
     "output_type": "stream",
     "text": [
      "<class 'pandas.core.frame.DataFrame'>\n",
      "RangeIndex: 100000 entries, 0 to 99999\n",
      "Data columns (total 8 columns):\n",
      " #   Column     Non-Null Count   Dtype         \n",
      "---  ------     --------------   -----         \n",
      " 0   timestamp  100000 non-null  datetime64[ns]\n",
      " 1   A_x        90000 non-null   float64       \n",
      " 2   A_y        90000 non-null   float64       \n",
      " 3   A_z        90000 non-null   float64       \n",
      " 4   B_x        90000 non-null   float64       \n",
      " 5   B_y        90000 non-null   float64       \n",
      " 6   B_z        90000 non-null   float64       \n",
      " 7   label      100000 non-null  int64         \n",
      "dtypes: datetime64[ns](1), float64(6), int64(1)\n",
      "memory usage: 6.1 MB\n"
     ]
    }
   ],
   "source": [
    "import pandas as pd\n",
    "\n",
    "data['timestamp'] = pd.to_datetime(data['timestamp'], format='%Y-%m-%d %H:%M:%S.%f')\n",
    "data.head()\n",
    "data.info()"
   ]
  },
  {
   "cell_type": "code",
   "execution_count": 10,
   "id": "8071e483-e071-41fb-a22c-609177a51b46",
   "metadata": {
    "tags": []
   },
   "outputs": [
    {
     "data": {
      "text/html": [
       "<div>\n",
       "<style scoped>\n",
       "    .dataframe tbody tr th:only-of-type {\n",
       "        vertical-align: middle;\n",
       "    }\n",
       "\n",
       "    .dataframe tbody tr th {\n",
       "        vertical-align: top;\n",
       "    }\n",
       "\n",
       "    .dataframe thead th {\n",
       "        text-align: right;\n",
       "    }\n",
       "</style>\n",
       "<table border=\"1\" class=\"dataframe\">\n",
       "  <thead>\n",
       "    <tr style=\"text-align: right;\">\n",
       "      <th></th>\n",
       "      <th>timestamp</th>\n",
       "      <th>A_x</th>\n",
       "      <th>A_y</th>\n",
       "      <th>A_z</th>\n",
       "      <th>B_x</th>\n",
       "      <th>B_y</th>\n",
       "      <th>B_z</th>\n",
       "      <th>label</th>\n",
       "    </tr>\n",
       "  </thead>\n",
       "  <tbody>\n",
       "    <tr>\n",
       "      <th>0</th>\n",
       "      <td>2019-01-12 00:45:54.450</td>\n",
       "      <td>-0.259130</td>\n",
       "      <td>-0.834869</td>\n",
       "      <td>-0.485499</td>\n",
       "      <td>0.196409</td>\n",
       "      <td>NaN</td>\n",
       "      <td>0.384934</td>\n",
       "      <td>8</td>\n",
       "    </tr>\n",
       "    <tr>\n",
       "      <th>1</th>\n",
       "      <td>2000-01-01 01:37:06.440</td>\n",
       "      <td>0.370490</td>\n",
       "      <td>0.175042</td>\n",
       "      <td>0.122625</td>\n",
       "      <td>-0.338242</td>\n",
       "      <td>0.358245</td>\n",
       "      <td>0.126491</td>\n",
       "      <td>2</td>\n",
       "    </tr>\n",
       "    <tr>\n",
       "      <th>2</th>\n",
       "      <td>2019-01-12 00:45:33.900</td>\n",
       "      <td>-0.257837</td>\n",
       "      <td>-0.881947</td>\n",
       "      <td>-0.391895</td>\n",
       "      <td>0.196027</td>\n",
       "      <td>0.894537</td>\n",
       "      <td>0.411221</td>\n",
       "      <td>8</td>\n",
       "    </tr>\n",
       "    <tr>\n",
       "      <th>3</th>\n",
       "      <td>2000-01-01 00:46:22.680</td>\n",
       "      <td>-0.937753</td>\n",
       "      <td>-0.055961</td>\n",
       "      <td>0.362041</td>\n",
       "      <td>-0.929881</td>\n",
       "      <td>0.087673</td>\n",
       "      <td>0.134609</td>\n",
       "      <td>11</td>\n",
       "    </tr>\n",
       "    <tr>\n",
       "      <th>4</th>\n",
       "      <td>2000-01-01 00:49:56.620</td>\n",
       "      <td>-0.988320</td>\n",
       "      <td>-0.190390</td>\n",
       "      <td>0.157909</td>\n",
       "      <td>-0.954669</td>\n",
       "      <td>-0.024810</td>\n",
       "      <td>-0.388420</td>\n",
       "      <td>6</td>\n",
       "    </tr>\n",
       "  </tbody>\n",
       "</table>\n",
       "</div>"
      ],
      "text/plain": [
       "                 timestamp       A_x       A_y       A_z       B_x       B_y  \\\n",
       "0  2019-01-12 00:45:54.450 -0.259130 -0.834869 -0.485499  0.196409       NaN   \n",
       "1  2000-01-01 01:37:06.440  0.370490  0.175042  0.122625 -0.338242  0.358245   \n",
       "2  2019-01-12 00:45:33.900 -0.257837 -0.881947 -0.391895  0.196027  0.894537   \n",
       "3  2000-01-01 00:46:22.680 -0.937753 -0.055961  0.362041 -0.929881  0.087673   \n",
       "4  2000-01-01 00:49:56.620 -0.988320 -0.190390  0.157909 -0.954669 -0.024810   \n",
       "\n",
       "        B_z  label  \n",
       "0  0.384934      8  \n",
       "1  0.126491      2  \n",
       "2  0.411221      8  \n",
       "3  0.134609     11  \n",
       "4 -0.388420      6  "
      ]
     },
     "execution_count": 10,
     "metadata": {},
     "output_type": "execute_result"
    }
   ],
   "source": [
    "data.head()"
   ]
  },
  {
   "cell_type": "code",
   "execution_count": 6,
   "id": "b1d462b1-6639-4a64-95b2-1311199b9669",
   "metadata": {
    "tags": []
   },
   "outputs": [
    {
     "data": {
      "text/html": [
       "<div>\n",
       "<style scoped>\n",
       "    .dataframe tbody tr th:only-of-type {\n",
       "        vertical-align: middle;\n",
       "    }\n",
       "\n",
       "    .dataframe tbody tr th {\n",
       "        vertical-align: top;\n",
       "    }\n",
       "\n",
       "    .dataframe thead th {\n",
       "        text-align: right;\n",
       "    }\n",
       "</style>\n",
       "<table border=\"1\" class=\"dataframe\">\n",
       "  <thead>\n",
       "    <tr style=\"text-align: right;\">\n",
       "      <th></th>\n",
       "      <th>timestamp</th>\n",
       "      <th>A_x</th>\n",
       "      <th>A_y</th>\n",
       "      <th>A_z</th>\n",
       "      <th>B_x</th>\n",
       "      <th>B_y</th>\n",
       "      <th>B_z</th>\n",
       "    </tr>\n",
       "  </thead>\n",
       "  <tbody>\n",
       "    <tr>\n",
       "      <th>0</th>\n",
       "      <td>2000-01-01 00:00:42.700</td>\n",
       "      <td>-1.000957</td>\n",
       "      <td>-0.170691</td>\n",
       "      <td>0.124889</td>\n",
       "      <td>-0.979561</td>\n",
       "      <td>0.003150</td>\n",
       "      <td>-0.264673</td>\n",
       "    </tr>\n",
       "    <tr>\n",
       "      <th>1</th>\n",
       "      <td>2000-01-01 00:28:38.540</td>\n",
       "      <td>-0.874830</td>\n",
       "      <td>0.132696</td>\n",
       "      <td>-0.501727</td>\n",
       "      <td>-1.274911</td>\n",
       "      <td>0.045122</td>\n",
       "      <td>0.121270</td>\n",
       "    </tr>\n",
       "    <tr>\n",
       "      <th>2</th>\n",
       "      <td>2000-01-01 00:07:23.900</td>\n",
       "      <td>-1.219112</td>\n",
       "      <td>0.074678</td>\n",
       "      <td>0.435331</td>\n",
       "      <td>-0.860820</td>\n",
       "      <td>0.222740</td>\n",
       "      <td>0.008689</td>\n",
       "    </tr>\n",
       "    <tr>\n",
       "      <th>3</th>\n",
       "      <td>2019-01-12 01:58:44.580</td>\n",
       "      <td>-0.907752</td>\n",
       "      <td>-0.171816</td>\n",
       "      <td>0.211507</td>\n",
       "      <td>-0.972017</td>\n",
       "      <td>0.337799</td>\n",
       "      <td>1.013534</td>\n",
       "    </tr>\n",
       "    <tr>\n",
       "      <th>4</th>\n",
       "      <td>2019-01-12 00:59:32.380</td>\n",
       "      <td>-1.031261</td>\n",
       "      <td>0.000340</td>\n",
       "      <td>-0.091693</td>\n",
       "      <td>-0.217434</td>\n",
       "      <td>-0.323466</td>\n",
       "      <td>0.931614</td>\n",
       "    </tr>\n",
       "  </tbody>\n",
       "</table>\n",
       "</div>"
      ],
      "text/plain": [
       "                 timestamp       A_x       A_y       A_z       B_x       B_y  \\\n",
       "0  2000-01-01 00:00:42.700 -1.000957 -0.170691  0.124889 -0.979561  0.003150   \n",
       "1  2000-01-01 00:28:38.540 -0.874830  0.132696 -0.501727 -1.274911  0.045122   \n",
       "2  2000-01-01 00:07:23.900 -1.219112  0.074678  0.435331 -0.860820  0.222740   \n",
       "3  2019-01-12 01:58:44.580 -0.907752 -0.171816  0.211507 -0.972017  0.337799   \n",
       "4  2019-01-12 00:59:32.380 -1.031261  0.000340 -0.091693 -0.217434 -0.323466   \n",
       "\n",
       "        B_z  \n",
       "0 -0.264673  \n",
       "1  0.121270  \n",
       "2  0.008689  \n",
       "3  1.013534  \n",
       "4  0.931614  "
      ]
     },
     "execution_count": 6,
     "metadata": {},
     "output_type": "execute_result"
    }
   ],
   "source": [
    "test = pd.read_csv('test.csv', usecols=lambda column: column != 'Unnamed: 0')\n",
    "test.head()"
   ]
  },
  {
   "cell_type": "code",
   "execution_count": 12,
   "id": "86f5db7a-e465-46ae-af33-9a00ef3cec7f",
   "metadata": {
    "tags": []
   },
   "outputs": [
    {
     "data": {
      "text/plain": [
       "<Axes: xlabel='label', ylabel='count'>"
      ]
     },
     "execution_count": 12,
     "metadata": {},
     "output_type": "execute_result"
    },
    {
     "data": {
      "image/png": "[encoded data removed]",
      "text/plain": [
       "<Figure size 640x480 with 1 Axes>"
      ]
     },
     "metadata": {},
     "output_type": "display_data"
    }
   ],
   "source": [
    "import seaborn as sns\n",
    "sns.countplot(x='label',data=data)"
   ]
  },
  {
   "cell_type": "code",
   "execution_count": 15,
   "id": "1073ba81-8967-48d6-ade4-e37f483df1d8",
   "metadata": {
    "tags": []
   },
   "outputs": [],
   "source": [
    "test['timestamp'] = pd.to_datetime(test['timestamp'], format='%Y-%m-%d %H:%M:%S.%f')"
   ]
  },
  {
   "cell_type": "code",
   "execution_count": 18,
   "id": "e0d43583-b43f-4acc-8aaa-7d5dd2b94e5d",
   "metadata": {
    "tags": []
   },
   "outputs": [
    {
     "data": {
      "text/plain": [
       "2     12170\n",
       "8     11497\n",
       "1     11465\n",
       "7     10594\n",
       "10     9579\n",
       "9      9282\n",
       "11     9112\n",
       "3      8305\n",
       "4      7208\n",
       "5      5411\n",
       "6      5377\n",
       "Name: label, dtype: int64"
      ]
     },
     "execution_count": 18,
     "metadata": {},
     "output_type": "execute_result"
    }
   ],
   "source": [
    "data['label'].value_counts()"
   ]
  },
  {
   "cell_type": "markdown",
   "id": "982a0f56-7d89-41ce-9e1b-af4a9455d685",
   "metadata": {},
   "source": [
    "# to_datetime"
   ]
  },
  {
   "cell_type": "code",
   "execution_count": 16,
   "id": "7d03f42d-d205-4b20-ae43-bbccb0df945e",
   "metadata": {
    "tags": []
   },
   "outputs": [
    {
     "name": "stdout",
     "output_type": "stream",
     "text": [
      "<class 'pandas.core.frame.DataFrame'>\n",
      "RangeIndex: 100000 entries, 0 to 99999\n",
      "Data columns (total 14 columns):\n",
      " #   Column     Non-Null Count   Dtype         \n",
      "---  ------     --------------   -----         \n",
      " 0   timestamp  100000 non-null  datetime64[ns]\n",
      " 1   A_x        90000 non-null   float64       \n",
      " 2   A_y        90000 non-null   float64       \n",
      " 3   A_z        90000 non-null   float64       \n",
      " 4   B_x        90000 non-null   float64       \n",
      " 5   B_y        90000 non-null   float64       \n",
      " 6   B_z        90000 non-null   float64       \n",
      " 7   label      100000 non-null  int64         \n",
      " 8   연도         100000 non-null  int64         \n",
      " 9   월          100000 non-null  int64         \n",
      " 10  요일         100000 non-null  int64         \n",
      " 11  시간대        100000 non-null  int64         \n",
      " 12  분          100000 non-null  int64         \n",
      " 13  초          100000 non-null  int64         \n",
      "dtypes: datetime64[ns](1), float64(6), int64(7)\n",
      "memory usage: 10.7 MB\n"
     ]
    }
   ],
   "source": [
    "data['timestamp'] = pd.to_datetime(data['timestamp'])\n",
    "data['연도'] = data['timestamp'].dt.year\n",
    "data['월'] = data['timestamp'].dt.month\n",
    "data['요일'] = data['timestamp'].dt.dayofweek \n",
    "data['시간대'] = data['timestamp'].dt.hour\n",
    "data['분'] = data['timestamp'].dt.minute\n",
    "data['초'] = data['timestamp'].dt.second\n",
    "data.info()\n",
    "data.drop(['timestamp'],axis=1,inplace=True)"
   ]
  },
  {
   "cell_type": "code",
   "execution_count": 17,
   "id": "acbd5b7d-e758-49d0-978f-aba1ff92286e",
   "metadata": {
    "tags": []
   },
   "outputs": [
    {
     "name": "stdout",
     "output_type": "stream",
     "text": [
      "<class 'pandas.core.frame.DataFrame'>\n",
      "RangeIndex: 13234 entries, 0 to 13233\n",
      "Data columns (total 13 columns):\n",
      " #   Column     Non-Null Count  Dtype         \n",
      "---  ------     --------------  -----         \n",
      " 0   timestamp  13234 non-null  datetime64[ns]\n",
      " 1   A_x        13234 non-null  float64       \n",
      " 2   A_y        13234 non-null  float64       \n",
      " 3   A_z        13234 non-null  float64       \n",
      " 4   B_x        13234 non-null  float64       \n",
      " 5   B_y        13234 non-null  float64       \n",
      " 6   B_z        13234 non-null  float64       \n",
      " 7   연도         13234 non-null  int64         \n",
      " 8   월          13234 non-null  int64         \n",
      " 9   요일         13234 non-null  int64         \n",
      " 10  시간대        13234 non-null  int64         \n",
      " 11  분          13234 non-null  int64         \n",
      " 12  초          13234 non-null  int64         \n",
      "dtypes: datetime64[ns](1), float64(6), int64(6)\n",
      "memory usage: 1.3 MB\n"
     ]
    }
   ],
   "source": [
    "# 'timestamp' 열을 datetime 형식으로 변환\n",
    "test['timestamp'] = pd.to_datetime(test['timestamp'])\n",
    "\n",
    "# '연도', '월', '요일', '시간대' 열 추가\n",
    "test['연도'] = test['timestamp'].dt.year\n",
    "test['월'] = test['timestamp'].dt.month\n",
    "test['요일'] = test['timestamp'].dt.dayofweek\n",
    "test['시간대'] = test['timestamp'].dt.hour\n",
    "test['분'] = test['timestamp'].dt.minute\n",
    "test['초'] = test['timestamp'].dt.second\n",
    "# 데이터 정보 출력\n",
    "test.info()\n",
    "\n",
    "# 'timestamp' 열 삭제\n",
    "test.drop(['timestamp'], axis=1, inplace=True)\n",
    "\n"
   ]
  },
  {
   "cell_type": "code",
   "execution_count": 18,
   "id": "0e1f4997-2c31-46d8-9600-78bfa79adb2d",
   "metadata": {
    "tags": []
   },
   "outputs": [],
   "source": [
    "data=data.dropna()"
   ]
  },
  {
   "cell_type": "code",
   "execution_count": 19,
   "id": "fd0e1329-1042-4de7-a088-94d84bc01e90",
   "metadata": {
    "tags": []
   },
   "outputs": [],
   "source": [
    "x=data.drop(['label'],axis=1)\n",
    "y=data['label']\n",
    "X_train,X_valid,y_train,y_valid=train_test_split(x,y,test_size=0.2,random_state=42)"
   ]
  },
  {
   "cell_type": "markdown",
   "id": "d7123934-43d3-4605-bdcb-4cc2611352d6",
   "metadata": {
    "tags": []
   },
   "source": [
    "# 모델 학습(깡통)"
   ]
  },
  {
   "cell_type": "code",
   "execution_count": 30,
   "id": "aea47f18-875a-428c-9fae-4c51e63b864b",
   "metadata": {
    "tags": []
   },
   "outputs": [
    {
     "data": {
      "text/html": [
       "<style>#sk-container-id-2 {color: black;background-color: white;}#sk-container-id-2 pre{padding: 0;}#sk-container-id-2 div.sk-toggleable {background-color: white;}#sk-container-id-2 label.sk-toggleable__label {cursor: pointer;display: block;width: 100%;margin-bottom: 0;padding: 0.3em;box-sizing: border-box;text-align: center;}#sk-container-id-2 label.sk-toggleable__label-arrow:before {content: \"▸\";float: left;margin-right: 0.25em;color: #696969;}#sk-container-id-2 label.sk-toggleable__label-arrow:hover:before {color: black;}#sk-container-id-2 div.sk-estimator:hover label.sk-toggleable__label-arrow:before {color: black;}#sk-container-id-2 div.sk-toggleable__content {max-height: 0;max-width: 0;overflow: hidden;text-align: left;background-color: #f0f8ff;}#sk-container-id-2 div.sk-toggleable__content pre {margin: 0.2em;color: black;border-radius: 0.25em;background-color: #f0f8ff;}#sk-container-id-2 input.sk-toggleable__control:checked~div.sk-toggleable__content {max-height: 200px;max-width: 100%;overflow: auto;}#sk-container-id-2 input.sk-toggleable__control:checked~label.sk-toggleable__label-arrow:before {content: \"▾\";}#sk-container-id-2 div.sk-estimator input.sk-toggleable__control:checked~label.sk-toggleable__label {background-color: #d4ebff;}#sk-container-id-2 div.sk-label input.sk-toggleable__control:checked~label.sk-toggleable__label {background-color: #d4ebff;}#sk-container-id-2 input.sk-hidden--visually {border: 0;clip: rect(1px 1px 1px 1px);clip: rect(1px, 1px, 1px, 1px);height: 1px;margin: -1px;overflow: hidden;padding: 0;position: absolute;width: 1px;}#sk-container-id-2 div.sk-estimator {font-family: monospace;background-color: #f0f8ff;border: 1px dotted black;border-radius: 0.25em;box-sizing: border-box;margin-bottom: 0.5em;}#sk-container-id-2 div.sk-estimator:hover {background-color: #d4ebff;}#sk-container-id-2 div.sk-parallel-item::after {content: \"\";width: 100%;border-bottom: 1px solid gray;flex-grow: 1;}#sk-container-id-2 div.sk-label:hover label.sk-toggleable__label {background-color: #d4ebff;}#sk-container-id-2 div.sk-serial::before {content: \"\";position: absolute;border-left: 1px solid gray;box-sizing: border-box;top: 0;bottom: 0;left: 50%;z-index: 0;}#sk-container-id-2 div.sk-serial {display: flex;flex-direction: column;align-items: center;background-color: white;padding-right: 0.2em;padding-left: 0.2em;position: relative;}#sk-container-id-2 div.sk-item {position: relative;z-index: 1;}#sk-container-id-2 div.sk-parallel {display: flex;align-items: stretch;justify-content: center;background-color: white;position: relative;}#sk-container-id-2 div.sk-item::before, #sk-container-id-2 div.sk-parallel-item::before {content: \"\";position: absolute;border-left: 1px solid gray;box-sizing: border-box;top: 0;bottom: 0;left: 50%;z-index: -1;}#sk-container-id-2 div.sk-parallel-item {display: flex;flex-direction: column;z-index: 1;position: relative;background-color: white;}#sk-container-id-2 div.sk-parallel-item:first-child::after {align-self: flex-end;width: 50%;}#sk-container-id-2 div.sk-parallel-item:last-child::after {align-self: flex-start;width: 50%;}#sk-container-id-2 div.sk-parallel-item:only-child::after {width: 0;}#sk-container-id-2 div.sk-dashed-wrapped {border: 1px dashed gray;margin: 0 0.4em 0.5em 0.4em;box-sizing: border-box;padding-bottom: 0.4em;background-color: white;}#sk-container-id-2 div.sk-label label {font-family: monospace;font-weight: bold;display: inline-block;line-height: 1.2em;}#sk-container-id-2 div.sk-label-container {text-align: center;}#sk-container-id-2 div.sk-container {/* jupyter's `normalize.less` sets `[hidden] { display: none; }` but bootstrap.min.css set `[hidden] { display: none !important; }` so we also need the `!important` here to be able to override the default hidden behavior on the sphinx rendered scikit-learn.org. See: https://github.com/scikit-learn/scikit-learn/issues/21755 */display: inline-block !important;position: relative;}#sk-container-id-2 div.sk-text-repr-fallback {display: none;}</style><div id=\"sk-container-id-2\" class=\"sk-top-container\"><div class=\"sk-text-repr-fallback\"><pre>RandomForestClassifier()</pre><b>In a Jupyter environment, please rerun this cell to show the HTML representation or trust the notebook. <br />On GitHub, the HTML representation is unable to render, please try loading this page with nbviewer.org.</b></div><div class=\"sk-container\" hidden><div class=\"sk-item\"><div class=\"sk-estimator sk-toggleable\"><input class=\"sk-toggleable__control sk-hidden--visually\" id=\"sk-estimator-id-2\" type=\"checkbox\" checked><label for=\"sk-estimator-id-2\" class=\"sk-toggleable__label sk-toggleable__label-arrow\">RandomForestClassifier</label><div class=\"sk-toggleable__content\"><pre>RandomForestClassifier()</pre></div></div></div></div></div>"
      ],
      "text/plain": [
       "RandomForestClassifier()"
      ]
     },
     "execution_count": 30,
     "metadata": {},
     "output_type": "execute_result"
    }
   ],
   "source": [
    "from sklearn.ensemble import RandomForestClassifier\n",
    "model1=RandomForestClassifier()\n",
    "model1.fit(X_train,y_train)"
   ]
  },
  {
   "cell_type": "code",
   "execution_count": 32,
   "id": "37e3ab9c-b1a3-4cab-b830-3428dfa7e77f",
   "metadata": {
    "tags": []
   },
   "outputs": [
    {
     "name": "stdout",
     "output_type": "stream",
     "text": [
      "              precision    recall  f1-score   support\n",
      "\n",
      "           1       0.95      0.95      0.95      1228\n",
      "           2       0.97      0.96      0.96      1307\n",
      "           3       0.98      0.90      0.94       875\n",
      "           4       0.95      0.99      0.97       773\n",
      "           5       0.91      0.99      0.95       599\n",
      "           6       1.00      0.97      0.98       558\n",
      "           7       1.00      1.00      1.00      1124\n",
      "           8       1.00      1.00      1.00      1193\n",
      "           9       1.00      1.00      1.00       995\n",
      "          10       0.94      0.95      0.95      1032\n",
      "          11       0.97      0.97      0.97       960\n",
      "\n",
      "    accuracy                           0.97     10644\n",
      "   macro avg       0.97      0.97      0.97     10644\n",
      "weighted avg       0.97      0.97      0.97     10644\n",
      "\n",
      "0.9706877113866967\n"
     ]
    }
   ],
   "source": [
    "y_pred=model1.predict(X_valid)\n",
    "\n",
    "from sklearn.metrics import classification_report\n",
    "from sklearn.metrics import accuracy_score\n",
    "# Generate the classification report\n",
    "report1 = classification_report(y_valid,y_pred)\n",
    "acc1=accuracy_score(y_valid,y_pred)\n",
    "# Print the report\n",
    "print(report1)\n",
    "print(acc1)"
   ]
  },
  {
   "cell_type": "code",
   "execution_count": 22,
   "id": "dbfc3170-017a-43d6-b1d1-d6c4a4418f93",
   "metadata": {
    "tags": []
   },
   "outputs": [],
   "source": [
    "y_pred=model1.predict(test)"
   ]
  },
  {
   "cell_type": "code",
   "execution_count": 23,
   "id": "ceae2061-7db9-4278-b795-f3a3a5e8eb22",
   "metadata": {
    "tags": []
   },
   "outputs": [],
   "source": [
    "result = pd.DataFrame(y_pred).reset_index()\n",
    "result.columns = ['ID', 'label']\n"
   ]
  },
  {
   "cell_type": "code",
   "execution_count": 24,
   "id": "8563d3e7-286d-4724-8633-082d06022d40",
   "metadata": {
    "tags": []
   },
   "outputs": [],
   "source": [
    "result.to_excel('result.xlsx', index=False)\n"
   ]
  },
  {
   "cell_type": "markdown",
   "id": "e4978dce-d18f-4ce0-a1b4-2b7f397d7a12",
   "metadata": {},
   "source": [
    "# 튜닝"
   ]
  },
  {
   "cell_type": "code",
   "execution_count": 25,
   "id": "58fb6e65-ea0b-479c-b97c-3f9868ae8cb3",
   "metadata": {
    "tags": []
   },
   "outputs": [
    {
     "name": "stdout",
     "output_type": "stream",
     "text": [
      "최적 하이퍼파라미터: {'max_depth': None, 'min_samples_split': 2, 'n_estimators': 200}\n",
      "최적 성능 (정확도): 0.9735055783910745\n",
      "테스트 데이터 정확도: 0.9729425028184893\n"
     ]
    }
   ],
   "source": [
    "from sklearn.ensemble import RandomForestClassifier\n",
    "from sklearn.model_selection import GridSearchCV\n",
    "from sklearn.datasets import load_iris\n",
    "from sklearn.model_selection import train_test_split\n",
    "\n",
    "\n",
    "model = RandomForestClassifier()\n",
    "\n",
    "# 탐색할 하이퍼파라미터 그리드 정의\n",
    "param_grid = {\n",
    "    'n_estimators': [100, 200, 300],  # 트리의 개수\n",
    "    'max_depth': [None, 10, 20],     # 트리의 최대 깊이\n",
    "    'min_samples_split': [2, 5, 10]  # 노드를 분할하기 위한 최소 샘플 개수\n",
    "}\n",
    "\n",
    "# GridSearchCV를 사용하여 그리드 서치 수행\n",
    "grid_search = GridSearchCV(model, param_grid, cv=5, n_jobs=-1, scoring='accuracy')\n",
    "grid_search.fit(X_train, y_train)\n",
    "\n",
    "# 최적 하이퍼파라미터 조합 및 최적 성능 출력\n",
    "print(\"최적 하이퍼파라미터:\", grid_search.best_params_)\n",
    "print(\"최적 성능 (정확도):\", grid_search.best_score_)\n",
    "\n",
    "# 최적 모델 얻기\n",
    "best_model = grid_search.best_estimator_\n",
    "\n",
    "# 테스트 데이터로 최적 모델 평가\n",
    "accuracy = best_model.score(X_valid, y_valid)\n",
    "print(\"테스트 데이터 정확도:\", accuracy)\n"
   ]
  },
  {
   "cell_type": "code",
   "execution_count": 26,
   "id": "39bf12b7-23ea-4944-9379-fd812ceace5e",
   "metadata": {
    "tags": []
   },
   "outputs": [],
   "source": [
    "y_pred=best_model.predict(test)\n",
    "result = pd.DataFrame(y_pred).reset_index()\n",
    "result.columns = ['ID', 'label']"
   ]
  },
  {
   "cell_type": "code",
   "execution_count": 27,
   "id": "847ade67-4c5e-46b5-9028-c1fd12191bd0",
   "metadata": {
    "tags": []
   },
   "outputs": [],
   "source": [
    "result.to_excel('result.xlsx', index=False)\n"
   ]
  },
  {
   "cell_type": "markdown",
   "id": "63a156dd-c55f-49ed-af81-36659ad58bbe",
   "metadata": {},
   "source": [
    "# 변수 중요도"
   ]
  },
  {
   "cell_type": "code",
   "execution_count": 33,
   "id": "7e4e2960-fd30-4f77-bdfc-2a882e57c827",
   "metadata": {
    "tags": []
   },
   "outputs": [
    {
     "data": {
      "image/png": "[encoded data removed]",
      "text/plain": [
       "<Figure size 1000x2000 with 1 Axes>"
      ]
     },
     "metadata": {},
     "output_type": "display_data"
    }
   ],
   "source": [
    "importance = best_model.feature_importances_\n",
    "names = X_train.columns\n",
    "\n",
    "fi_df = plot_feature_importance(importance, names)"
   ]
  },
  {
   "cell_type": "code",
   "execution_count": 35,
   "id": "d72ebb38-cd72-4be4-a354-e2c42f17ae43",
   "metadata": {},
   "outputs": [
    {
     "data": {
      "text/html": [
       "<div>\n",
       "<style scoped>\n",
       "    .dataframe tbody tr th:only-of-type {\n",
       "        vertical-align: middle;\n",
       "    }\n",
       "\n",
       "    .dataframe tbody tr th {\n",
       "        vertical-align: top;\n",
       "    }\n",
       "\n",
       "    .dataframe thead th {\n",
       "        text-align: right;\n",
       "    }\n",
       "</style>\n",
       "<table border=\"1\" class=\"dataframe\">\n",
       "  <thead>\n",
       "    <tr style=\"text-align: right;\">\n",
       "      <th></th>\n",
       "      <th>feature_name</th>\n",
       "      <th>feature_importance</th>\n",
       "    </tr>\n",
       "  </thead>\n",
       "  <tbody>\n",
       "    <tr>\n",
       "      <th>0</th>\n",
       "      <td>A_z</td>\n",
       "      <td>0.176082</td>\n",
       "    </tr>\n",
       "    <tr>\n",
       "      <th>1</th>\n",
       "      <td>분</td>\n",
       "      <td>0.160463</td>\n",
       "    </tr>\n",
       "    <tr>\n",
       "      <th>2</th>\n",
       "      <td>B_x</td>\n",
       "      <td>0.112178</td>\n",
       "    </tr>\n",
       "    <tr>\n",
       "      <th>3</th>\n",
       "      <td>A_x</td>\n",
       "      <td>0.111262</td>\n",
       "    </tr>\n",
       "    <tr>\n",
       "      <th>4</th>\n",
       "      <td>연도</td>\n",
       "      <td>0.096538</td>\n",
       "    </tr>\n",
       "    <tr>\n",
       "      <th>5</th>\n",
       "      <td>B_z</td>\n",
       "      <td>0.096241</td>\n",
       "    </tr>\n",
       "    <tr>\n",
       "      <th>6</th>\n",
       "      <td>A_y</td>\n",
       "      <td>0.079569</td>\n",
       "    </tr>\n",
       "    <tr>\n",
       "      <th>7</th>\n",
       "      <td>B_y</td>\n",
       "      <td>0.074003</td>\n",
       "    </tr>\n",
       "    <tr>\n",
       "      <th>8</th>\n",
       "      <td>시간대</td>\n",
       "      <td>0.054603</td>\n",
       "    </tr>\n",
       "    <tr>\n",
       "      <th>9</th>\n",
       "      <td>초</td>\n",
       "      <td>0.039061</td>\n",
       "    </tr>\n",
       "    <tr>\n",
       "      <th>10</th>\n",
       "      <td>월</td>\n",
       "      <td>0.000000</td>\n",
       "    </tr>\n",
       "    <tr>\n",
       "      <th>11</th>\n",
       "      <td>요일</td>\n",
       "      <td>0.000000</td>\n",
       "    </tr>\n",
       "  </tbody>\n",
       "</table>\n",
       "</div>"
      ],
      "text/plain": [
       "   feature_name  feature_importance\n",
       "0           A_z            0.176082\n",
       "1             분            0.160463\n",
       "2           B_x            0.112178\n",
       "3           A_x            0.111262\n",
       "4            연도            0.096538\n",
       "5           B_z            0.096241\n",
       "6           A_y            0.079569\n",
       "7           B_y            0.074003\n",
       "8           시간대            0.054603\n",
       "9             초            0.039061\n",
       "10            월            0.000000\n",
       "11           요일            0.000000"
      ]
     },
     "execution_count": 35,
     "metadata": {},
     "output_type": "execute_result"
    }
   ],
   "source": [
    "fi_df"
   ]
  },
  {
   "cell_type": "code",
   "execution_count": 36,
   "id": "a9b9567a-ee00-4459-b1e6-6566ef3719f6",
   "metadata": {
    "tags": []
   },
   "outputs": [],
   "source": [
    "X_train_10 = X_train[fi_df.head(10)['feature_name'].values]\n",
    "X_valid_10 = X_valid[fi_df.head(10)['feature_name'].values]\n",
    "test_10 = test[fi_df.head(10)['feature_name'].values]"
   ]
  },
  {
   "cell_type": "code",
   "execution_count": 40,
   "id": "953d1703-9f7f-4f96-a146-fe53f5c906a3",
   "metadata": {
    "tags": []
   },
   "outputs": [
    {
     "data": {
      "text/html": [
       "<style>#sk-container-id-3 {color: black;background-color: white;}#sk-container-id-3 pre{padding: 0;}#sk-container-id-3 div.sk-toggleable {background-color: white;}#sk-container-id-3 label.sk-toggleable__label {cursor: pointer;display: block;width: 100%;margin-bottom: 0;padding: 0.3em;box-sizing: border-box;text-align: center;}#sk-container-id-3 label.sk-toggleable__label-arrow:before {content: \"▸\";float: left;margin-right: 0.25em;color: #696969;}#sk-container-id-3 label.sk-toggleable__label-arrow:hover:before {color: black;}#sk-container-id-3 div.sk-estimator:hover label.sk-toggleable__label-arrow:before {color: black;}#sk-container-id-3 div.sk-toggleable__content {max-height: 0;max-width: 0;overflow: hidden;text-align: left;background-color: #f0f8ff;}#sk-container-id-3 div.sk-toggleable__content pre {margin: 0.2em;color: black;border-radius: 0.25em;background-color: #f0f8ff;}#sk-container-id-3 input.sk-toggleable__control:checked~div.sk-toggleable__content {max-height: 200px;max-width: 100%;overflow: auto;}#sk-container-id-3 input.sk-toggleable__control:checked~label.sk-toggleable__label-arrow:before {content: \"▾\";}#sk-container-id-3 div.sk-estimator input.sk-toggleable__control:checked~label.sk-toggleable__label {background-color: #d4ebff;}#sk-container-id-3 div.sk-label input.sk-toggleable__control:checked~label.sk-toggleable__label {background-color: #d4ebff;}#sk-container-id-3 input.sk-hidden--visually {border: 0;clip: rect(1px 1px 1px 1px);clip: rect(1px, 1px, 1px, 1px);height: 1px;margin: -1px;overflow: hidden;padding: 0;position: absolute;width: 1px;}#sk-container-id-3 div.sk-estimator {font-family: monospace;background-color: #f0f8ff;border: 1px dotted black;border-radius: 0.25em;box-sizing: border-box;margin-bottom: 0.5em;}#sk-container-id-3 div.sk-estimator:hover {background-color: #d4ebff;}#sk-container-id-3 div.sk-parallel-item::after {content: \"\";width: 100%;border-bottom: 1px solid gray;flex-grow: 1;}#sk-container-id-3 div.sk-label:hover label.sk-toggleable__label {background-color: #d4ebff;}#sk-container-id-3 div.sk-serial::before {content: \"\";position: absolute;border-left: 1px solid gray;box-sizing: border-box;top: 0;bottom: 0;left: 50%;z-index: 0;}#sk-container-id-3 div.sk-serial {display: flex;flex-direction: column;align-items: center;background-color: white;padding-right: 0.2em;padding-left: 0.2em;position: relative;}#sk-container-id-3 div.sk-item {position: relative;z-index: 1;}#sk-container-id-3 div.sk-parallel {display: flex;align-items: stretch;justify-content: center;background-color: white;position: relative;}#sk-container-id-3 div.sk-item::before, #sk-container-id-3 div.sk-parallel-item::before {content: \"\";position: absolute;border-left: 1px solid gray;box-sizing: border-box;top: 0;bottom: 0;left: 50%;z-index: -1;}#sk-container-id-3 div.sk-parallel-item {display: flex;flex-direction: column;z-index: 1;position: relative;background-color: white;}#sk-container-id-3 div.sk-parallel-item:first-child::after {align-self: flex-end;width: 50%;}#sk-container-id-3 div.sk-parallel-item:last-child::after {align-self: flex-start;width: 50%;}#sk-container-id-3 div.sk-parallel-item:only-child::after {width: 0;}#sk-container-id-3 div.sk-dashed-wrapped {border: 1px dashed gray;margin: 0 0.4em 0.5em 0.4em;box-sizing: border-box;padding-bottom: 0.4em;background-color: white;}#sk-container-id-3 div.sk-label label {font-family: monospace;font-weight: bold;display: inline-block;line-height: 1.2em;}#sk-container-id-3 div.sk-label-container {text-align: center;}#sk-container-id-3 div.sk-container {/* jupyter's `normalize.less` sets `[hidden] { display: none; }` but bootstrap.min.css set `[hidden] { display: none !important; }` so we also need the `!important` here to be able to override the default hidden behavior on the sphinx rendered scikit-learn.org. See: https://github.com/scikit-learn/scikit-learn/issues/21755 */display: inline-block !important;position: relative;}#sk-container-id-3 div.sk-text-repr-fallback {display: none;}</style><div id=\"sk-container-id-3\" class=\"sk-top-container\"><div class=\"sk-text-repr-fallback\"><pre>RandomForestClassifier(n_estimators=200)</pre><b>In a Jupyter environment, please rerun this cell to show the HTML representation or trust the notebook. <br />On GitHub, the HTML representation is unable to render, please try loading this page with nbviewer.org.</b></div><div class=\"sk-container\" hidden><div class=\"sk-item\"><div class=\"sk-estimator sk-toggleable\"><input class=\"sk-toggleable__control sk-hidden--visually\" id=\"sk-estimator-id-3\" type=\"checkbox\" checked><label for=\"sk-estimator-id-3\" class=\"sk-toggleable__label sk-toggleable__label-arrow\">RandomForestClassifier</label><div class=\"sk-toggleable__content\"><pre>RandomForestClassifier(n_estimators=200)</pre></div></div></div></div></div>"
      ],
      "text/plain": [
       "RandomForestClassifier(n_estimators=200)"
      ]
     },
     "execution_count": 40,
     "metadata": {},
     "output_type": "execute_result"
    }
   ],
   "source": [
    "model2=RandomForestClassifier(max_depth=None, min_samples_split=2, n_estimators=200)\n",
    "model2.fit(X_train_10,y_train)"
   ]
  },
  {
   "cell_type": "code",
   "execution_count": 41,
   "id": "10898504-a98c-46f6-98ab-0ef7848c2d48",
   "metadata": {
    "tags": []
   },
   "outputs": [
    {
     "name": "stdout",
     "output_type": "stream",
     "text": [
      "              precision    recall  f1-score   support\n",
      "\n",
      "           1       0.96      0.96      0.96      1228\n",
      "           2       0.97      0.96      0.96      1307\n",
      "           3       0.99      0.91      0.95       875\n",
      "           4       0.95      0.99      0.97       773\n",
      "           5       0.93      1.00      0.96       599\n",
      "           6       1.00      0.97      0.99       558\n",
      "           7       1.00      1.00      1.00      1124\n",
      "           8       1.00      1.00      1.00      1193\n",
      "           9       1.00      1.00      1.00       995\n",
      "          10       0.94      0.96      0.95      1032\n",
      "          11       0.97      0.97      0.97       960\n",
      "\n",
      "    accuracy                           0.97     10644\n",
      "   macro avg       0.97      0.97      0.97     10644\n",
      "weighted avg       0.97      0.97      0.97     10644\n",
      "\n",
      "0.9733183013904547\n"
     ]
    }
   ],
   "source": [
    "y_pred=model2.predict(X_valid_10)\n",
    "\n",
    "from sklearn.metrics import classification_report\n",
    "from sklearn.metrics import accuracy_score\n",
    "# Generate the classification report\n",
    "report2 = classification_report(y_valid,y_pred)\n",
    "acc2=accuracy_score(y_valid,y_pred)\n",
    "# Print the report\n",
    "print(report2)\n",
    "print(acc2)"
   ]
  },
  {
   "cell_type": "markdown",
   "id": "10367041-cd55-4f2e-a366-7c7be4b96afa",
   "metadata": {},
   "source": [
    "# 표준화"
   ]
  },
  {
   "cell_type": "code",
   "execution_count": 42,
   "id": "70d4ffa6-f969-49c9-b2a8-fee118410af7",
   "metadata": {
    "tags": []
   },
   "outputs": [],
   "source": [
    "from sklearn.preprocessing import StandardScaler\n",
    "\n",
    "# StandardScaler 객체 생성\n",
    "scaler = StandardScaler()\n",
    "\n",
    "# X_train_10을 표준 스케일링\n",
    "X_train_10_scaled = scaler.fit_transform(X_train_10)\n",
    "\n",
    "# X_test_10을 표준 스케일링 (주의: X_train_10을 기반으로 변환)\n",
    "X_valid_10_scaled = scaler.transform(X_valid_10)\n",
    "\n",
    "# test_10을 표준 스케일링 (주의: X_train_10을 기반으로 변환)\n",
    "test_10_scaled = scaler.transform(test_10)\n"
   ]
  },
  {
   "cell_type": "code",
   "execution_count": 43,
   "id": "cf1d39e0-8585-4015-a8a2-ebaf1a33639d",
   "metadata": {
    "tags": []
   },
   "outputs": [
    {
     "data": {
      "text/html": [
       "<style>#sk-container-id-4 {color: black;background-color: white;}#sk-container-id-4 pre{padding: 0;}#sk-container-id-4 div.sk-toggleable {background-color: white;}#sk-container-id-4 label.sk-toggleable__label {cursor: pointer;display: block;width: 100%;margin-bottom: 0;padding: 0.3em;box-sizing: border-box;text-align: center;}#sk-container-id-4 label.sk-toggleable__label-arrow:before {content: \"▸\";float: left;margin-right: 0.25em;color: #696969;}#sk-container-id-4 label.sk-toggleable__label-arrow:hover:before {color: black;}#sk-container-id-4 div.sk-estimator:hover label.sk-toggleable__label-arrow:before {color: black;}#sk-container-id-4 div.sk-toggleable__content {max-height: 0;max-width: 0;overflow: hidden;text-align: left;background-color: #f0f8ff;}#sk-container-id-4 div.sk-toggleable__content pre {margin: 0.2em;color: black;border-radius: 0.25em;background-color: #f0f8ff;}#sk-container-id-4 input.sk-toggleable__control:checked~div.sk-toggleable__content {max-height: 200px;max-width: 100%;overflow: auto;}#sk-container-id-4 input.sk-toggleable__control:checked~label.sk-toggleable__label-arrow:before {content: \"▾\";}#sk-container-id-4 div.sk-estimator input.sk-toggleable__control:checked~label.sk-toggleable__label {background-color: #d4ebff;}#sk-container-id-4 div.sk-label input.sk-toggleable__control:checked~label.sk-toggleable__label {background-color: #d4ebff;}#sk-container-id-4 input.sk-hidden--visually {border: 0;clip: rect(1px 1px 1px 1px);clip: rect(1px, 1px, 1px, 1px);height: 1px;margin: -1px;overflow: hidden;padding: 0;position: absolute;width: 1px;}#sk-container-id-4 div.sk-estimator {font-family: monospace;background-color: #f0f8ff;border: 1px dotted black;border-radius: 0.25em;box-sizing: border-box;margin-bottom: 0.5em;}#sk-container-id-4 div.sk-estimator:hover {background-color: #d4ebff;}#sk-container-id-4 div.sk-parallel-item::after {content: \"\";width: 100%;border-bottom: 1px solid gray;flex-grow: 1;}#sk-container-id-4 div.sk-label:hover label.sk-toggleable__label {background-color: #d4ebff;}#sk-container-id-4 div.sk-serial::before {content: \"\";position: absolute;border-left: 1px solid gray;box-sizing: border-box;top: 0;bottom: 0;left: 50%;z-index: 0;}#sk-container-id-4 div.sk-serial {display: flex;flex-direction: column;align-items: center;background-color: white;padding-right: 0.2em;padding-left: 0.2em;position: relative;}#sk-container-id-4 div.sk-item {position: relative;z-index: 1;}#sk-container-id-4 div.sk-parallel {display: flex;align-items: stretch;justify-content: center;background-color: white;position: relative;}#sk-container-id-4 div.sk-item::before, #sk-container-id-4 div.sk-parallel-item::before {content: \"\";position: absolute;border-left: 1px solid gray;box-sizing: border-box;top: 0;bottom: 0;left: 50%;z-index: -1;}#sk-container-id-4 div.sk-parallel-item {display: flex;flex-direction: column;z-index: 1;position: relative;background-color: white;}#sk-container-id-4 div.sk-parallel-item:first-child::after {align-self: flex-end;width: 50%;}#sk-container-id-4 div.sk-parallel-item:last-child::after {align-self: flex-start;width: 50%;}#sk-container-id-4 div.sk-parallel-item:only-child::after {width: 0;}#sk-container-id-4 div.sk-dashed-wrapped {border: 1px dashed gray;margin: 0 0.4em 0.5em 0.4em;box-sizing: border-box;padding-bottom: 0.4em;background-color: white;}#sk-container-id-4 div.sk-label label {font-family: monospace;font-weight: bold;display: inline-block;line-height: 1.2em;}#sk-container-id-4 div.sk-label-container {text-align: center;}#sk-container-id-4 div.sk-container {/* jupyter's `normalize.less` sets `[hidden] { display: none; }` but bootstrap.min.css set `[hidden] { display: none !important; }` so we also need the `!important` here to be able to override the default hidden behavior on the sphinx rendered scikit-learn.org. See: https://github.com/scikit-learn/scikit-learn/issues/21755 */display: inline-block !important;position: relative;}#sk-container-id-4 div.sk-text-repr-fallback {display: none;}</style><div id=\"sk-container-id-4\" class=\"sk-top-container\"><div class=\"sk-text-repr-fallback\"><pre>RandomForestClassifier(n_estimators=200)</pre><b>In a Jupyter environment, please rerun this cell to show the HTML representation or trust the notebook. <br />On GitHub, the HTML representation is unable to render, please try loading this page with nbviewer.org.</b></div><div class=\"sk-container\" hidden><div class=\"sk-item\"><div class=\"sk-estimator sk-toggleable\"><input class=\"sk-toggleable__control sk-hidden--visually\" id=\"sk-estimator-id-4\" type=\"checkbox\" checked><label for=\"sk-estimator-id-4\" class=\"sk-toggleable__label sk-toggleable__label-arrow\">RandomForestClassifier</label><div class=\"sk-toggleable__content\"><pre>RandomForestClassifier(n_estimators=200)</pre></div></div></div></div></div>"
      ],
      "text/plain": [
       "RandomForestClassifier(n_estimators=200)"
      ]
     },
     "execution_count": 43,
     "metadata": {},
     "output_type": "execute_result"
    }
   ],
   "source": [
    "model3=RandomForestClassifier(max_depth=None, min_samples_split=2, n_estimators=200)\n",
    "model3.fit(X_train_10_scaled,y_train)"
   ]
  },
  {
   "cell_type": "code",
   "execution_count": 44,
   "id": "fa33f78b-21df-4f74-8fe0-31895561732b",
   "metadata": {
    "tags": []
   },
   "outputs": [
    {
     "name": "stdout",
     "output_type": "stream",
     "text": [
      "              precision    recall  f1-score   support\n",
      "\n",
      "           1       0.95      0.96      0.96      1228\n",
      "           2       0.97      0.96      0.97      1307\n",
      "           3       0.99      0.91      0.95       875\n",
      "           4       0.95      0.99      0.97       773\n",
      "           5       0.94      0.99      0.96       599\n",
      "           6       1.00      0.97      0.99       558\n",
      "           7       1.00      1.00      1.00      1124\n",
      "           8       1.00      1.00      1.00      1193\n",
      "           9       1.00      1.00      1.00       995\n",
      "          10       0.94      0.96      0.95      1032\n",
      "          11       0.97      0.97      0.97       960\n",
      "\n",
      "    accuracy                           0.97     10644\n",
      "   macro avg       0.97      0.97      0.97     10644\n",
      "weighted avg       0.97      0.97      0.97     10644\n",
      "\n",
      "0.9743517474633596\n"
     ]
    }
   ],
   "source": [
    "y_pred=model3.predict(X_valid_10_scaled)\n",
    "\n",
    "from sklearn.metrics import classification_report\n",
    "from sklearn.metrics import accuracy_score\n",
    "# Generate the classification report\n",
    "report3 = classification_report(y_valid,y_pred)\n",
    "acc3=accuracy_score(y_valid,y_pred)\n",
    "# Print the report\n",
    "print(report3)\n",
    "print(acc3)"
   ]
  },
  {
   "cell_type": "markdown",
   "id": "d2f633bc-0c2a-4184-87f2-84e705d8a9e1",
   "metadata": {},
   "source": [
    "**캐글 성적 상위 5명의 발표를 들은 결과 5명 모두 lightgbm모델을 사용한 것을 보고, 바로 lightgbm 모델로 시도해보았다.**"
   ]
  },
  {
   "cell_type": "markdown",
   "id": "3fefd762-e14a-45a6-a71b-ffa9dd70de37",
   "metadata": {},
   "source": [
    "# lightgbm 깡통모델"
   ]
  },
  {
   "cell_type": "code",
   "execution_count": 45,
   "id": "50ceba07-550f-4dc5-a3cd-e147053ec53f",
   "metadata": {
    "tags": []
   },
   "outputs": [
    {
     "name": "stdout",
     "output_type": "stream",
     "text": [
      "[LightGBM] [Warning] Auto-choosing row-wise multi-threading, the overhead of testing was 0.002342 seconds.\n",
      "You can set `force_row_wise=true` to remove the overhead.\n",
      "And if memory is not enough, you can set `force_col_wise=true`.\n",
      "[LightGBM] [Info] Total Bins 1653\n",
      "[LightGBM] [Info] Number of data points in the train set: 42575, number of used features: 10\n",
      "[LightGBM] [Info] Start training from score -2.149861\n",
      "[LightGBM] [Info] Start training from score -2.113048\n",
      "[LightGBM] [Info] Start training from score -2.483475\n",
      "[LightGBM] [Info] Start training from score -2.626338\n",
      "[LightGBM] [Info] Start training from score -2.912290\n",
      "[LightGBM] [Info] Start training from score -2.917055\n",
      "[LightGBM] [Info] Start training from score -2.237020\n",
      "[LightGBM] [Info] Start training from score -2.169612\n",
      "[LightGBM] [Info] Start training from score -2.391317\n",
      "[LightGBM] [Info] Start training from score -2.356013\n",
      "[LightGBM] [Info] Start training from score -2.395948\n",
      "              precision    recall  f1-score   support\n",
      "\n",
      "           1       0.99      0.98      0.98      1228\n",
      "           2       0.99      0.99      0.99      1307\n",
      "           3       0.99      0.97      0.98       875\n",
      "           4       0.98      0.99      0.99       773\n",
      "           5       0.97      0.99      0.98       599\n",
      "           6       1.00      0.99      1.00       558\n",
      "           7       1.00      1.00      1.00      1124\n",
      "           8       1.00      1.00      1.00      1193\n",
      "           9       1.00      1.00      1.00       995\n",
      "          10       0.99      0.99      0.99      1032\n",
      "          11       1.00      0.99      0.99       960\n",
      "\n",
      "    accuracy                           0.99     10644\n",
      "   macro avg       0.99      0.99      0.99     10644\n",
      "weighted avg       0.99      0.99      0.99     10644\n",
      "\n",
      "0.9910747839158212\n"
     ]
    }
   ],
   "source": [
    "import lightgbm as lgb\n",
    "\n",
    "model4 = lgb.LGBMClassifier()\n",
    "model4.fit(X_train_10_scaled, y_train)\n",
    "y_pred = model4.predict(X_valid_10_scaled)\n",
    "\n",
    "report4 = classification_report(y_valid,y_pred)\n",
    "acc4=accuracy_score(y_valid,y_pred)\n",
    "# Print the report\n",
    "print(report4)\n",
    "print(acc4)"
   ]
  },
  {
   "cell_type": "markdown",
   "id": "5061b765-66ad-4379-85a4-e56f0b6d795e",
   "metadata": {},
   "source": [
    "정확도가 단번에 0.991로 높아진 것을 확인"
   ]
  },
  {
   "cell_type": "markdown",
   "id": "f46df6d3-09f2-437e-b9ac-86f2d241facc",
   "metadata": {},
   "source": [
    "**이번 프로젝트를 하며 느낀점은.. 여태 항상 랜덤포레스트가 평균적으로 항상 정확도가 높아 랜덤포레스트 모델을**\n",
    "\n",
    "**사용하였는데,성능을 높히기 전에 적어도 모든 깡통모델들로 학습을 시켜보고 정확도가 가장 높은 모델을 이용하여 성능을** \n",
    "\n",
    "**높히는 방향으로 가야겠다고 생각했다!!**"
   ]
  }
 ],
 "metadata": {
  "kernelspec": {
   "display_name": "Python 3 (ipykernel)",
   "language": "python",
   "name": "python3"
  },
  "language_info": {
   "codemirror_mode": {
    "name": "ipython",
    "version": 3
   },
   "file_extension": ".py",
   "mimetype": "text/x-python",
   "name": "python",
   "nbconvert_exporter": "python",
   "pygments_lexer": "ipython3",
   "version": "3.11.3"
  }
 },
 "nbformat": 4,
 "nbformat_minor": 5
}
